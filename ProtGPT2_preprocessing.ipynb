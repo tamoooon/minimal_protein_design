{
 "cells": [
  {
   "cell_type": "markdown",
   "metadata": {},
   "source": [
    "# データの読み込み"
   ]
  },
  {
   "cell_type": "code",
   "execution_count": 1,
   "metadata": {
    "colab": {
     "base_uri": "https://localhost:8080/"
    },
    "executionInfo": {
     "elapsed": 6340,
     "status": "ok",
     "timestamp": 1685072171737,
     "user": {
      "displayName": "松澤多聞",
      "userId": "05278067764067764498"
     },
     "user_tz": -540
    },
    "id": "b8mIAdE178CT",
    "outputId": "64f3ac82-e0f5-4350-dcb9-29ba12aeec75"
   },
   "outputs": [
    {
     "name": "stdout",
     "output_type": "stream",
     "text": [
      "easy-linclust /home/tamon/Desktop/ProtGPT2/MDH_37000.fasta MDH_mmseqs tmp --min-seq-id 0.8 \n",
      "\n",
      "MMseqs Version:                     \t13.45111\n",
      "Cluster mode                        \t0\n",
      "Max connected component depth       \t1000\n",
      "Similarity type                     \t2\n",
      "Threads                             \t128\n",
      "Compressed                          \t0\n",
      "Verbosity                           \t3\n",
      "Substitution matrix                 \tnucl:nucleotide.out,aa:blosum62.out\n",
      "Add backtrace                       \tfalse\n",
      "Alignment mode                      \t0\n",
      "Alignment mode                      \t0\n",
      "Allow wrapped scoring               \tfalse\n",
      "E-value threshold                   \t0.001\n",
      "Seq. id. threshold                  \t0.8\n",
      "Min alignment length                \t0\n",
      "Seq. id. mode                       \t0\n",
      "Alternative alignments              \t0\n",
      "Coverage threshold                  \t0.8\n",
      "Coverage mode                       \t0\n",
      "Max sequence length                 \t65535\n",
      "Compositional bias                  \t1\n",
      "Max reject                          \t2147483647\n",
      "Max accept                          \t2147483647\n",
      "Include identical seq. id.          \tfalse\n",
      "Preload mode                        \t0\n",
      "Pseudo count a                      \t1\n",
      "Pseudo count b                      \t1.5\n",
      "Score bias                          \t0\n",
      "Realign hits                        \tfalse\n",
      "Realign score bias                  \t-0.2\n",
      "Realign max seqs                    \t2147483647\n",
      "Gap open cost                       \tnucl:5,aa:11\n",
      "Gap extension cost                  \tnucl:2,aa:1\n",
      "Zdrop                               \t40\n",
      "Alphabet size                       \tnucl:5,aa:21\n",
      "k-mers per sequence                 \t21\n",
      "Spaced k-mers                       \t0\n",
      "Spaced k-mer pattern                \t\n",
      "Scale k-mers per sequence           \tnucl:0.200,aa:0.000\n",
      "Adjust k-mer length                 \tfalse\n",
      "Mask residues                       \t1\n",
      "Mask lower case residues            \t0\n",
      "k-mer length                        \t0\n",
      "Shift hash                          \t67\n",
      "Split memory limit                  \t0\n",
      "Include only extendable             \tfalse\n",
      "Skip repeating k-mers               \tfalse\n",
      "Rescore mode                        \t0\n",
      "Remove hits by seq. id. and coverage\tfalse\n",
      "Sort results                        \t0\n",
      "Remove temporary files              \ttrue\n",
      "Force restart with latest tmp       \tfalse\n",
      "MPI runner                          \t\n",
      "Database type                       \t0\n",
      "Shuffle input database              \ttrue\n",
      "Createdb mode                       \t1\n",
      "Write lookup file                   \t0\n",
      "Offset of numeric ids               \t0\n",
      "\n",
      "createdb /home/tamon/Desktop/ProtGPT2/MDH_37000.fasta tmp/9333942286420908362/input --dbtype 0 --shuffle 1 --createdb-mode 1 --write-lookup 0 --id-offset 0 --compressed 0 -v 3 \n",
      "\n",
      "\u001b[33mShuffle database cannot be combined with --createdb-mode 0\n",
      "\u001b[39m\u001b[33mWe recompute with --shuffle 0\n",
      "\u001b[39mConverting sequences\n",
      "\u001b[33mMultiline fasta can not be combined with --createdb-mode 0\n",
      "\u001b[39m\u001b[33mWe recompute with --createdb-mode 1\n",
      "\u001b[39mTime for merging to input_h: 0h 0m 0s 0ms\n",
      "Time for merging to input: 0h 0m 0s 0ms\n",
      "[37573] 0s 49ms\n",
      "Time for merging to input_h: 0h 0m 0s 0ms\n",
      "Time for merging to input: 0h 0m 0s 0ms\n",
      "Database type: Aminoacid\n",
      "Time for processing: 0h 0m 0s 56ms\n",
      "Create directory tmp/9333942286420908362/clu_tmp\n",
      "linclust tmp/9333942286420908362/input tmp/9333942286420908362/clu tmp/9333942286420908362/clu_tmp -e 0.001 --min-seq-id 0.8 -c 0.8 --spaced-kmer-mode 0 --remove-tmp-files 1 \n",
      "\n",
      "Set cluster mode SET COVER.\n",
      "kmermatcher tmp/9333942286420908362/input tmp/9333942286420908362/clu_tmp/1070989872227757101/pref --sub-mat nucl:nucleotide.out,aa:blosum62.out --alph-size nucl:5,aa:13 --min-seq-id 0.8 --kmer-per-seq 21 --spaced-kmer-mode 0 --kmer-per-seq-scale nucl:0.200,aa:0.000 --adjust-kmer-len 0 --mask 0 --mask-lower-case 0 --cov-mode 0 -k 0 -c 0.8 --max-seq-len 65535 --hash-shift 67 --split-memory-limit 0 --include-only-extendable 0 --ignore-multi-kmer 0 --threads 128 --compressed 0 -v 3 \n",
      "\n",
      "kmermatcher tmp/9333942286420908362/input tmp/9333942286420908362/clu_tmp/1070989872227757101/pref --sub-mat nucl:nucleotide.out,aa:blosum62.out --alph-size nucl:5,aa:13 --min-seq-id 0.8 --kmer-per-seq 21 --spaced-kmer-mode 0 --kmer-per-seq-scale nucl:0.200,aa:0.000 --adjust-kmer-len 0 --mask 0 --mask-lower-case 0 --cov-mode 0 -k 0 -c 0.8 --max-seq-len 65535 --hash-shift 67 --split-memory-limit 0 --include-only-extendable 0 --ignore-multi-kmer 0 --threads 128 --compressed 0 -v 3 \n",
      "\n",
      "Database size: 37601 type: Aminoacid\n",
      "Reduced amino acid alphabet: (A S T) (C) (D B N) (E Q Z) (F Y) (G) (H) (I V) (K R) (L J M) (P) (W) (X) \n",
      "\n",
      "Generate k-mers list for 1 split\n",
      "[=================================================================] 100.00% 37.60K 0s 182ms      ] 6.23% 2.34K eta 0s       ==>                               ] 51.31% 19.30K eta 0s       ====================>                             ] 54.32% 20.43K eta 0s       K eta 0s       \n",
      "Sort kmer 0h 0m 0s 115ms\n",
      "Sort by rep. sequence 0h 0m 0s 91ms\n",
      "Time for fill: 0h 0m 0s 15ms\n",
      "Time for merging to pref: 0h 0m 0s 0ms\n",
      "Time for processing: 0h 0m 0s 489ms\n",
      "rescorediagonal tmp/9333942286420908362/input tmp/9333942286420908362/input tmp/9333942286420908362/clu_tmp/1070989872227757101/pref tmp/9333942286420908362/clu_tmp/1070989872227757101/pref_rescore1 --sub-mat nucl:nucleotide.out,aa:blosum62.out --rescore-mode 0 --wrapped-scoring 0 --filter-hits 0 -e 0.001 -c 0.8 -a 0 --cov-mode 0 --min-seq-id 0.8 --min-aln-len 0 --seq-id-mode 0 --add-self-matches 0 --sort-results 0 --db-load-mode 0 --threads 128 --compressed 0 -v 3 \n",
      "\n",
      "[=================================================================] 100.00% 37.60K 0s 90ms                       ] 60.80% 22.86K eta 0s       \n",
      "Time for merging to pref_rescore1: 0h 0m 0s 19ms=================>] 99.80% 37.52K eta 0s       \n",
      "Time for processing: 0h 0m 0s 269ms\n",
      "clust tmp/9333942286420908362/input tmp/9333942286420908362/clu_tmp/1070989872227757101/pref_rescore1 tmp/9333942286420908362/clu_tmp/1070989872227757101/pre_clust --cluster-mode 0 --max-iterations 1000 --similarity-type 2 --threads 128 --compressed 0 -v 3 \n",
      "\n",
      "Clustering mode: Set Cover\n",
      "[=================================================================] 100.00% 37.60K 0s 67ms     \n",
      "Sort entries\n",
      "Find missing connections\n",
      "Found 76508 new connections.\n",
      "Reconstruct initial order\n",
      "[===>                                                             ] 5.44% 2.05K eta 0s       "
     ]
    },
    {
     "name": "stderr",
     "output_type": "stream",
     "text": [
      "IOPub data rate exceeded.\n",
      "The notebook server will temporarily stop sending output\n",
      "to the client in order to avoid crashing it.\n",
      "To change this limit, set the config variable\n",
      "`--NotebookApp.iopub_data_rate_limit`.\n",
      "\n",
      "Current values:\n",
      "NotebookApp.iopub_data_rate_limit=1000000.0 (bytes/sec)\n",
      "NotebookApp.rate_limit_window=3.0 (secs)\n",
      "\n"
     ]
    },
    {
     "name": "stdout",
     "output_type": "stream",
     "text": [
      "Time for processing: 0h 0m 0s 67ms\n",
      "rmdb tmp/9333942286420908362/input -v 3 \n",
      "\n",
      "Time for processing: 0h 0m 0s 1ms\n",
      "rmdb tmp/9333942286420908362/input_h -v 3 \n",
      "\n",
      "Time for processing: 0h 0m 0s 0ms\n",
      "rmdb tmp/9333942286420908362/clu_seqs -v 3 \n",
      "\n",
      "Time for processing: 0h 0m 0s 4ms\n",
      "rmdb tmp/9333942286420908362/clu_rep -v 3 \n",
      "\n",
      "Time for processing: 0h 0m 0s 0ms\n",
      "rmdb tmp/9333942286420908362/clu -v 3 \n",
      "\n",
      "Time for processing: 0h 0m 0s 2ms\n"
     ]
    }
   ],
   "source": [
    "!mmseqs easy-linclust /home/tamon/Desktop/ProtGPT2/MDH_37000.fasta MDH_mmseqs tmp --min-seq-id 0.8"
   ]
  },
  {
   "cell_type": "code",
   "execution_count": null,
   "metadata": {},
   "outputs": [],
   "source": [
    "#上のデータはUnreviewdのものだけなのでReviewedのデータも結合しておく"
   ]
  },
  {
   "cell_type": "code",
   "execution_count": 2,
   "metadata": {
    "colab": {
     "base_uri": "https://localhost:8080/",
     "height": 423
    },
    "executionInfo": {
     "elapsed": 474,
     "status": "ok",
     "timestamp": 1685072177122,
     "user": {
      "displayName": "松澤多聞",
      "userId": "05278067764067764498"
     },
     "user_tz": -540
    },
    "id": "tSRNWbcVBpb7",
    "outputId": "3c3c2a24-572a-444d-e9f8-6de18e7e4b46"
   },
   "outputs": [
    {
     "data": {
      "text/html": [
       "<div>\n",
       "<style scoped>\n",
       "    .dataframe tbody tr th:only-of-type {\n",
       "        vertical-align: middle;\n",
       "    }\n",
       "\n",
       "    .dataframe tbody tr th {\n",
       "        vertical-align: top;\n",
       "    }\n",
       "\n",
       "    .dataframe thead th {\n",
       "        text-align: right;\n",
       "    }\n",
       "</style>\n",
       "<table border=\"1\" class=\"dataframe\">\n",
       "  <thead>\n",
       "    <tr style=\"text-align: right;\">\n",
       "      <th></th>\n",
       "      <th>Header</th>\n",
       "      <th>Sequence</th>\n",
       "    </tr>\n",
       "  </thead>\n",
       "  <tbody>\n",
       "    <tr>\n",
       "      <th>0</th>\n",
       "      <td>&lt;|endoftext|&gt;</td>\n",
       "      <td>MKQPVHIAVTGAAGQISYSLLFRLAAGALLGPEQPIILHLLEIKPA...</td>\n",
       "    </tr>\n",
       "    <tr>\n",
       "      <th>1</th>\n",
       "      <td>&lt;|endoftext|&gt;</td>\n",
       "      <td>MKRKKIAVVGGGQIGGILALLVAQKELGDLVILDIPDKENFIKGKA...</td>\n",
       "    </tr>\n",
       "    <tr>\n",
       "      <th>2</th>\n",
       "      <td>&lt;|endoftext|&gt;</td>\n",
       "      <td>MSRKKIALIGGGQIGGILALLSTQKSLGDIVIVDLPQLEDPMKGKA...</td>\n",
       "    </tr>\n",
       "    <tr>\n",
       "      <th>3</th>\n",
       "      <td>&lt;|endoftext|&gt;</td>\n",
       "      <td>MAIRKITIVGAGRVGEATAQFLAKNELCRELVLLDVQEGVAQGGAL...</td>\n",
       "    </tr>\n",
       "    <tr>\n",
       "      <th>4</th>\n",
       "      <td>&lt;|endoftext|&gt;</td>\n",
       "      <td>MSLRRKKITVVGAGFVGATAAHWAAAKELGDVCIVDIVEGLPQGKA...</td>\n",
       "    </tr>\n",
       "    <tr>\n",
       "      <th>...</th>\n",
       "      <td>...</td>\n",
       "      <td>...</td>\n",
       "    </tr>\n",
       "    <tr>\n",
       "      <th>9189</th>\n",
       "      <td>&lt;|endoftext|&gt;</td>\n",
       "      <td>MARSKIALIGAGQIGGTLAHLAGLKELGDVVLFDIADGVPQGKGLD...</td>\n",
       "    </tr>\n",
       "    <tr>\n",
       "      <th>9190</th>\n",
       "      <td>&lt;|endoftext|&gt;</td>\n",
       "      <td>MARKKIALIGGGQIGGTLAHLAGLKELGDIVIFDIVEGLPQGKALD...</td>\n",
       "    </tr>\n",
       "    <tr>\n",
       "      <th>9191</th>\n",
       "      <td>&lt;|endoftext|&gt;</td>\n",
       "      <td>MARKKIALIGAGMIGGTLAHLAAIKEMGDIVLVDVAEGIPEGKALD...</td>\n",
       "    </tr>\n",
       "    <tr>\n",
       "      <th>9192</th>\n",
       "      <td>&lt;|endoftext|&gt;</td>\n",
       "      <td>MPKAVVLGAAGGIGQPLALLLKANPLVTELALFDIVNTPGVAADLS...</td>\n",
       "    </tr>\n",
       "    <tr>\n",
       "      <th>9193</th>\n",
       "      <td>&lt;|endoftext|&gt;</td>\n",
       "      <td>MDGMDIGSKGVVRVVVTGAAGQIGYSLVPLIAGGKMLGPGVKVELR...</td>\n",
       "    </tr>\n",
       "  </tbody>\n",
       "</table>\n",
       "<p>9194 rows × 2 columns</p>\n",
       "</div>"
      ],
      "text/plain": [
       "             Header                                           Sequence\n",
       "0     <|endoftext|>  MKQPVHIAVTGAAGQISYSLLFRLAAGALLGPEQPIILHLLEIKPA...\n",
       "1     <|endoftext|>  MKRKKIAVVGGGQIGGILALLVAQKELGDLVILDIPDKENFIKGKA...\n",
       "2     <|endoftext|>  MSRKKIALIGGGQIGGILALLSTQKSLGDIVIVDLPQLEDPMKGKA...\n",
       "3     <|endoftext|>  MAIRKITIVGAGRVGEATAQFLAKNELCRELVLLDVQEGVAQGGAL...\n",
       "4     <|endoftext|>  MSLRRKKITVVGAGFVGATAAHWAAAKELGDVCIVDIVEGLPQGKA...\n",
       "...             ...                                                ...\n",
       "9189  <|endoftext|>  MARSKIALIGAGQIGGTLAHLAGLKELGDVVLFDIADGVPQGKGLD...\n",
       "9190  <|endoftext|>  MARKKIALIGGGQIGGTLAHLAGLKELGDIVIFDIVEGLPQGKALD...\n",
       "9191  <|endoftext|>  MARKKIALIGAGMIGGTLAHLAAIKEMGDIVLVDVAEGIPEGKALD...\n",
       "9192  <|endoftext|>  MPKAVVLGAAGGIGQPLALLLKANPLVTELALFDIVNTPGVAADLS...\n",
       "9193  <|endoftext|>  MDGMDIGSKGVVRVVVTGAAGQIGYSLVPLIAGGKMLGPGVKVELR...\n",
       "\n",
       "[9194 rows x 2 columns]"
      ]
     },
     "execution_count": 2,
     "metadata": {},
     "output_type": "execute_result"
    }
   ],
   "source": [
    "from Bio import SeqIO\n",
    "import pandas as pd\n",
    "# import matplotlib.pyplot as plt\n",
    "# %matplotlib inline\n",
    "\n",
    "# mmseq後のFASTAファイルのパス\n",
    "fasta_file = \"/home/tamon/Desktop/ProtGPT2/MDH_mmseqs_rep_seq.fasta\"\n",
    "\n",
    "# データを格納するリスト\n",
    "headers = []\n",
    "sequences = []\n",
    "\n",
    "# FASTAファイルをパースしてデータを取得\n",
    "for record in SeqIO.parse(fasta_file, \"fasta\"):\n",
    "    headers.append( \"<|endoftext|>\")\n",
    "    sequences.append(str(record.seq))\n",
    "\n",
    "# データフレームの作成\n",
    "df = pd.DataFrame({\"Header\": headers, \"Sequence\": sequences})\n",
    "\n",
    "# データフレームの表示\n",
    "df"
   ]
  },
  {
   "cell_type": "code",
   "execution_count": 3,
   "metadata": {
    "colab": {
     "base_uri": "https://localhost:8080/"
    },
    "executionInfo": {
     "elapsed": 2382,
     "status": "ok",
     "timestamp": 1685072479622,
     "user": {
      "displayName": "松澤多聞",
      "userId": "05278067764067764498"
     },
     "user_tz": -540
    },
    "id": "PH58tUKaI-3A",
    "outputId": "690e77b8-5b8d-490f-ec7f-434bc8ad7ae4"
   },
   "outputs": [
    {
     "name": "stdout",
     "output_type": "stream",
     "text": [
      "9034\n"
     ]
    }
   ],
   "source": [
    "#基本アミノ酸以外を含んだものを消去\n",
    "amino_acid = ['A','R','N','D','C','E','Q','G','H','I','L','K','M','F','P','S','T','W','Y','V']\n",
    "\n",
    "def Del_amino_acid(x):\n",
    "    seq = x['Sequence']\n",
    "    seq_key = pd.Series(list(seq)).value_counts().keys()\n",
    "    seq_key = list(seq_key)\n",
    "    for i in seq_key:\n",
    "        if i not in amino_acid:\n",
    "            seq = 0\n",
    "    return seq\n",
    "\n",
    "df['Sequence'] = df.apply(Del_amino_acid, axis=1)\n",
    "df = df[df['Sequence']!=0].reset_index(drop=True)\n",
    "\n",
    "print(len(df))"
   ]
  },
  {
   "cell_type": "code",
   "execution_count": 4,
   "metadata": {},
   "outputs": [
    {
     "data": {
      "text/html": [
       "<div>\n",
       "<style scoped>\n",
       "    .dataframe tbody tr th:only-of-type {\n",
       "        vertical-align: middle;\n",
       "    }\n",
       "\n",
       "    .dataframe tbody tr th {\n",
       "        vertical-align: top;\n",
       "    }\n",
       "\n",
       "    .dataframe thead th {\n",
       "        text-align: right;\n",
       "    }\n",
       "</style>\n",
       "<table border=\"1\" class=\"dataframe\">\n",
       "  <thead>\n",
       "    <tr style=\"text-align: right;\">\n",
       "      <th></th>\n",
       "      <th>Header</th>\n",
       "      <th>Sequence</th>\n",
       "      <th>length</th>\n",
       "    </tr>\n",
       "  </thead>\n",
       "  <tbody>\n",
       "    <tr>\n",
       "      <th>0</th>\n",
       "      <td>&lt;|endoftext|&gt;</td>\n",
       "      <td>MKQPVHIAVTGAAGQISYSLLFRLAAGALLGPEQPIILHLLEIKPA...</td>\n",
       "      <td>326</td>\n",
       "    </tr>\n",
       "    <tr>\n",
       "      <th>1</th>\n",
       "      <td>&lt;|endoftext|&gt;</td>\n",
       "      <td>MKRKKIAVVGGGQIGGILALLVAQKELGDLVILDIPDKENFIKGKA...</td>\n",
       "      <td>311</td>\n",
       "    </tr>\n",
       "    <tr>\n",
       "      <th>2</th>\n",
       "      <td>&lt;|endoftext|&gt;</td>\n",
       "      <td>MSRKKIALIGGGQIGGILALLSTQKSLGDIVIVDLPQLEDPMKGKA...</td>\n",
       "      <td>311</td>\n",
       "    </tr>\n",
       "    <tr>\n",
       "      <th>3</th>\n",
       "      <td>&lt;|endoftext|&gt;</td>\n",
       "      <td>MAIRKITIVGAGRVGEATAQFLAKNELCRELVLLDVQEGVAQGGAL...</td>\n",
       "      <td>311</td>\n",
       "    </tr>\n",
       "    <tr>\n",
       "      <th>4</th>\n",
       "      <td>&lt;|endoftext|&gt;</td>\n",
       "      <td>MSLRRKKITVVGAGFVGATAAHWAAAKELGDVCIVDIVEGLPQGKA...</td>\n",
       "      <td>311</td>\n",
       "    </tr>\n",
       "    <tr>\n",
       "      <th>...</th>\n",
       "      <td>...</td>\n",
       "      <td>...</td>\n",
       "      <td>...</td>\n",
       "    </tr>\n",
       "    <tr>\n",
       "      <th>9029</th>\n",
       "      <td>&lt;|endoftext|&gt;</td>\n",
       "      <td>MARSKIALIGAGQIGGTLAHLAGLKELGDVVLFDIADGVPQGKGLD...</td>\n",
       "      <td>320</td>\n",
       "    </tr>\n",
       "    <tr>\n",
       "      <th>9030</th>\n",
       "      <td>&lt;|endoftext|&gt;</td>\n",
       "      <td>MARKKIALIGGGQIGGTLAHLAGLKELGDIVIFDIVEGLPQGKALD...</td>\n",
       "      <td>320</td>\n",
       "    </tr>\n",
       "    <tr>\n",
       "      <th>9031</th>\n",
       "      <td>&lt;|endoftext|&gt;</td>\n",
       "      <td>MARKKIALIGAGMIGGTLAHLAAIKEMGDIVLVDVAEGIPEGKALD...</td>\n",
       "      <td>320</td>\n",
       "    </tr>\n",
       "    <tr>\n",
       "      <th>9032</th>\n",
       "      <td>&lt;|endoftext|&gt;</td>\n",
       "      <td>MPKAVVLGAAGGIGQPLALLLKANPLVTELALFDIVNTPGVAADLS...</td>\n",
       "      <td>335</td>\n",
       "    </tr>\n",
       "    <tr>\n",
       "      <th>9033</th>\n",
       "      <td>&lt;|endoftext|&gt;</td>\n",
       "      <td>MDGMDIGSKGVVRVVVTGAAGQIGYSLVPLIAGGKMLGPGVKVELR...</td>\n",
       "      <td>335</td>\n",
       "    </tr>\n",
       "  </tbody>\n",
       "</table>\n",
       "<p>9034 rows × 3 columns</p>\n",
       "</div>"
      ],
      "text/plain": [
       "             Header                                           Sequence  length\n",
       "0     <|endoftext|>  MKQPVHIAVTGAAGQISYSLLFRLAAGALLGPEQPIILHLLEIKPA...     326\n",
       "1     <|endoftext|>  MKRKKIAVVGGGQIGGILALLVAQKELGDLVILDIPDKENFIKGKA...     311\n",
       "2     <|endoftext|>  MSRKKIALIGGGQIGGILALLSTQKSLGDIVIVDLPQLEDPMKGKA...     311\n",
       "3     <|endoftext|>  MAIRKITIVGAGRVGEATAQFLAKNELCRELVLLDVQEGVAQGGAL...     311\n",
       "4     <|endoftext|>  MSLRRKKITVVGAGFVGATAAHWAAAKELGDVCIVDIVEGLPQGKA...     311\n",
       "...             ...                                                ...     ...\n",
       "9029  <|endoftext|>  MARSKIALIGAGQIGGTLAHLAGLKELGDVVLFDIADGVPQGKGLD...     320\n",
       "9030  <|endoftext|>  MARKKIALIGGGQIGGTLAHLAGLKELGDIVIFDIVEGLPQGKALD...     320\n",
       "9031  <|endoftext|>  MARKKIALIGAGMIGGTLAHLAAIKEMGDIVLVDVAEGIPEGKALD...     320\n",
       "9032  <|endoftext|>  MPKAVVLGAAGGIGQPLALLLKANPLVTELALFDIVNTPGVAADLS...     335\n",
       "9033  <|endoftext|>  MDGMDIGSKGVVRVVVTGAAGQIGYSLVPLIAGGKMLGPGVKVELR...     335\n",
       "\n",
       "[9034 rows x 3 columns]"
      ]
     },
     "execution_count": 4,
     "metadata": {},
     "output_type": "execute_result"
    }
   ],
   "source": [
    "df['length'] = df['Sequence'].map(lambda x:len(x))\n",
    "df"
   ]
  },
  {
   "cell_type": "code",
   "execution_count": 5,
   "metadata": {},
   "outputs": [
    {
     "data": {
      "text/plain": [
       "count    9034.000000\n",
       "mean      330.207106\n",
       "std        82.698603\n",
       "min       104.000000\n",
       "25%       311.000000\n",
       "50%       324.000000\n",
       "75%       332.000000\n",
       "max      3476.000000\n",
       "Name: length, dtype: float64"
      ]
     },
     "execution_count": 5,
     "metadata": {},
     "output_type": "execute_result"
    }
   ],
   "source": [
    "df['length'].describe()"
   ]
  },
  {
   "cell_type": "code",
   "execution_count": 6,
   "metadata": {
    "colab": {
     "base_uri": "https://localhost:8080/"
    },
    "executionInfo": {
     "elapsed": 461,
     "status": "ok",
     "timestamp": 1685072574284,
     "user": {
      "displayName": "松澤多聞",
      "userId": "05278067764067764498"
     },
     "user_tz": -540
    },
    "id": "D9aJAocNJZa-",
    "outputId": "12e701e4-b293-498c-e67f-3e435850bf3d"
   },
   "outputs": [
    {
     "data": {
      "text/plain": [
       "0       MKQPVHIAVTGAAGQISYSLLFRLAAGALLGPEQPIILHLLEIKPA...\n",
       "1       MKRKKIAVVGGGQIGGILALLVAQKELGDLVILDIPDKENFIKGKA...\n",
       "2       MSRKKIALIGGGQIGGILALLSTQKSLGDIVIVDLPQLEDPMKGKA...\n",
       "3       MAIRKITIVGAGRVGEATAQFLAKNELCRELVLLDVQEGVAQGGAL...\n",
       "4       MSLRRKKITVVGAGFVGATAAHWAAAKELGDVCIVDIVEGLPQGKA...\n",
       "                              ...                        \n",
       "9029    MARSKIALIGAGQIGGTLAHLAGLKELGDVVLFDIADGVPQGKGLD...\n",
       "9030    MARKKIALIGGGQIGGTLAHLAGLKELGDIVIFDIVEGLPQGKALD...\n",
       "9031    MARKKIALIGAGMIGGTLAHLAAIKEMGDIVLVDVAEGIPEGKALD...\n",
       "9032    MPKAVVLGAAGGIGQPLALLLKANPLVTELALFDIVNTPGVAADLS...\n",
       "9033    MDGMDIGSKGVVRVVVTGAAGQIGYSLVPLIAGGKMLGPGVKVELR...\n",
       "Length: 9034, dtype: object"
      ]
     },
     "execution_count": 6,
     "metadata": {},
     "output_type": "execute_result"
    }
   ],
   "source": [
    "import textwrap\n",
    "def Wrap(x):\n",
    "    seq = \"\\n\".join(textwrap.wrap(x['Sequence'], width=60))\n",
    "    return seq\n",
    "\n",
    "Sequence = df.apply(Wrap,axis=1)\n",
    "Sequence"
   ]
  },
  {
   "cell_type": "code",
   "execution_count": 8,
   "metadata": {},
   "outputs": [],
   "source": [
    "#解析用にcsvを出力\n",
    "Sequence.to_csv('/home/tamon/Desktop/ProtGPT2/sequence.csv', index=False)"
   ]
  },
  {
   "cell_type": "code",
   "execution_count": 9,
   "metadata": {
    "colab": {
     "base_uri": "https://localhost:8080/"
    },
    "executionInfo": {
     "elapsed": 476,
     "status": "ok",
     "timestamp": 1685072623633,
     "user": {
      "displayName": "松澤多聞",
      "userId": "05278067764067764498"
     },
     "user_tz": -540
    },
    "id": "bEnJhNTiJtjv",
    "outputId": "9889aa4f-8c6c-4042-f3f7-7c74c392c986"
   },
   "outputs": [
    {
     "name": "stdout",
     "output_type": "stream",
     "text": [
      "評価用データ： 1806\n",
      "学習用データ： 7228\n"
     ]
    }
   ],
   "source": [
    "# データフレームの作成\n",
    "df_2 = pd.DataFrame({\"Header\": '<|endoftext|>', \"Sequence\": Sequence})\n",
    "vali = int(len(df_2)*0.2)\n",
    "df_valid = df_2.sample(n=vali, random_state=0)\n",
    "df_train = df_2.drop(df_valid.index)\n",
    "df_valid = df_valid.reset_index(drop=True)\n",
    "df_train = df_train.reset_index(drop=True)\n",
    "\n",
    "print('評価用データ：',len(df_valid))\n",
    "print('学習用データ：',len(df_train))"
   ]
  },
  {
   "cell_type": "code",
   "execution_count": 13,
   "metadata": {
    "id": "i379DBfaKNJM"
   },
   "outputs": [],
   "source": [
    "#テキストファイルでの出力\n",
    "df_valid.to_csv('/home/tamon/Desktop/ProtGPT2/df_valid_MDH_90.txt', index=False, sep='\\t')\n",
    "df_train.to_csv('/home/tamon/Desktop/ProtGPT2/df_train_MDH_90.txt', index=False, sep='\\t')"
   ]
  }
 ],
 "metadata": {
  "accelerator": "GPU",
  "colab": {
   "authorship_tag": "ABX9TyNYHE7LBuNHstHOg7sUmzRo",
   "gpuType": "A100",
   "machine_shape": "hm",
   "mount_file_id": "1EwmVBFfmEr4n_o0cdWcwDBsrcBxA1bvJ",
   "provenance": []
  },
  "kernelspec": {
   "display_name": "Python 3 (ipykernel)",
   "language": "python",
   "name": "python3"
  },
  "language_info": {
   "codemirror_mode": {
    "name": "ipython",
    "version": 3
   },
   "file_extension": ".py",
   "mimetype": "text/x-python",
   "name": "python",
   "nbconvert_exporter": "python",
   "pygments_lexer": "ipython3",
   "version": "3.11.3"
  }
 },
 "nbformat": 4,
 "nbformat_minor": 1
}
